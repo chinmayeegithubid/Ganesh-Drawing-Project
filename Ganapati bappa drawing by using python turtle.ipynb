{
 "cells": [
  {
   "cell_type": "markdown",
   "id": "5605116f-1706-4b6f-a767-ec863765543c",
   "metadata": {},
   "source": [
    "# # Ganesh Chaturthi Special Python Coding !!🙏 Ganapati Bappa Morya🙏!!"
   ]
  },
  {
   "cell_type": "code",
   "execution_count": 1,
   "id": "d47e49a9-ae0d-4ec1-8869-ebc1370a0511",
   "metadata": {},
   "outputs": [
    {
     "name": "stdout",
     "output_type": "stream",
     "text": [
      "loading data\n"
     ]
    },
    {
     "name": "stderr",
     "output_type": "stream",
     "text": [
      "100%|██████████████████████████████████████████████████████████████████████████████████| 96/96 [00:38<00:00,  2.49it/s]\n"
     ]
    },
    {
     "name": "stdout",
     "output_type": "stream",
     "text": [
      "svg data loaded\n"
     ]
    }
   ],
   "source": [
    "from enum import auto\n",
    "import turtle as tu\n",
    "import cv2\n",
    "from svgpathtools import svg2paths2\n",
    "from svg.path import parse_path\n",
    "from tqdm import tqdm\n",
    "class sketch_from_svg:\n",
    "\n",
    "    def __init__(self,path,scale=30,x_offset=400,y_offset=400):\n",
    "\n",
    "        self.path = path\n",
    "        self.x_offset = x_offset\n",
    "        self.y_offset = y_offset\n",
    "        self.scale = scale\n",
    "\n",
    "    def hex_to_rgb(self,string):\n",
    "        strlen = len(string)\n",
    "        if string.startswith('#'):\n",
    "            if strlen == 7:\n",
    "                r = string[1:3]\n",
    "                g = string[3:5]\n",
    "                b = string[5:7]\n",
    "            elif strlen == 4:\n",
    "                r = string[1:2]*2\n",
    "                g = string[2:3]*2\n",
    "                b = string[3:4]*2\n",
    "        elif strlen == 3:\n",
    "                r = string[0:1]*2\n",
    "                g = string[1:2]*2\n",
    "                b = string[2:3]*2\n",
    "        else:\n",
    "            r = string[0:2]\n",
    "            g = string[2:4]\n",
    "            b = string[4:6]\n",
    "        \n",
    "        return int(r,16)/255,int(g,16)/255, int(b,16)/255\n",
    "\n",
    "    \n",
    "\n",
    "    def load_svg(self):\n",
    "        print('loading data')\n",
    "        paths,attributes,svg_att = svg2paths2(self.path)\n",
    "        h = svg_att[\"height\"]\n",
    "        w = svg_att['width']\n",
    "        self.height = int(h[:h.find('.')])\n",
    "        self.width = int(w[:w.find('.')])\n",
    "\n",
    "        res = []\n",
    "        for i in tqdm(attributes):\n",
    "            path = parse_path(i['d'])\n",
    "            co = i['fill']\n",
    "            col = self.hex_to_rgb(co)\n",
    "            n = len(list(path))+2       \n",
    "            pts = [((int((p.real/self.width)*self.scale))-self.x_offset, (int((p.imag/self.height)*self.scale))-self.y_offset) for p in (path.point(i/n) for i in range(0,n+1))]\n",
    "            res.append((pts,col))\n",
    "        print('svg data loaded')\n",
    "        return res\n",
    "\n",
    "    def move_to(self,x, y):\n",
    "        self.pen.up()\n",
    "        self.pen.goto(x,y)\n",
    "        self.pen.down()\n",
    "\n",
    "\n",
    "    def draw(self,retain=True):\n",
    "        coordinates = self.load_svg()\n",
    "        self.pen = tu.Turtle()\n",
    "        self.pen.speed(0)\n",
    "        for path_col in coordinates:\n",
    "            f = 1\n",
    "            self.pen.color('red')\n",
    "            path = path_col[0]\n",
    "            col = path_col[1]\n",
    "            self.pen.color(col)\n",
    "            self.pen.begin_fill()\n",
    "            next = 0\n",
    "            for coord in path:\n",
    "                x,y = coord\n",
    "                y *= -1\n",
    "                if f:\n",
    "                    self.move_to(x, y)\n",
    "                    f=0\n",
    "                else:\n",
    "                    self.pen.goto(x,y)\n",
    "            self.pen.end_fill()\n",
    "\n",
    "        if retain == True:\n",
    "            tu.done()\n",
    "pen = sketch_from_svg(\"C:\\\\Users\\\\ChinmayeeNayak\\\\OneDrive\\\\Desktop\\\\Ganesh chaturthi python pnb\\\\ganesh.svg\")\n",
    "pen.draw()\n"
   ]
  },
  {
   "cell_type": "code",
   "execution_count": null,
   "id": "7d6c183f-5f2c-4f61-ae66-b3d2b123b021",
   "metadata": {},
   "outputs": [],
   "source": []
  },
  {
   "cell_type": "code",
   "execution_count": null,
   "id": "d26296bb-fcbd-4fa7-87df-bbaafc817bca",
   "metadata": {},
   "outputs": [],
   "source": []
  }
 ],
 "metadata": {
  "kernelspec": {
   "display_name": "Python 3 (ipykernel)",
   "language": "python",
   "name": "python3"
  },
  "language_info": {
   "codemirror_mode": {
    "name": "ipython",
    "version": 3
   },
   "file_extension": ".py",
   "mimetype": "text/x-python",
   "name": "python",
   "nbconvert_exporter": "python",
   "pygments_lexer": "ipython3",
   "version": "3.12.4"
  }
 },
 "nbformat": 4,
 "nbformat_minor": 5
}
